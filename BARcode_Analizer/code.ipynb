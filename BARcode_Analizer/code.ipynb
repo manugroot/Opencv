{
 "cells": [
  {
   "cell_type": "code",
   "execution_count": 3,
   "metadata": {},
   "outputs": [],
   "source": [
    "import cv2\n",
    "import numpy as np\n",
    "from pyzbar.pyzbar import decode"
   ]
  },
  {
   "cell_type": "code",
   "execution_count": null,
   "metadata": {},
   "outputs": [],
   "source": [
    "cap = cv2.VideoCapture(0)\n",
    "cap.set(3,640)\n",
    "cap.set(4,480)\n",
    "\n",
    "#Data list is the ID numbers which are Authorized\n",
    "#This is the text file that should be included or can also be given as a list in the code\n",
    "\n",
    "with open('DataFile.txt') as f:\n",
    "    myDataList = f.read().splitlines()\n",
    "\n",
    "while True:\n",
    "    success,img = cap.read()\n",
    "    for barcode in decode(img):\n",
    "        barData = barcode.data.decode('utf-8')\n",
    "        \n",
    "        if barData in myDataList:\n",
    "            myOutput='Authorized'\n",
    "            myColor =(0,255,0)\n",
    "        else:\n",
    "            myOutput='Un-Authorized'\n",
    "            myColor =(0,0,255)\n",
    "        \n",
    "        boxpts = np.array([barcode.polygon],np.int32)\n",
    "        boxpts = boxpts.reshape((-1,1,2))\n",
    "        cv2.polylines(img,[boxpts],True,(255,0,0),5)\n",
    "        boxpts1 = barcode.rect\n",
    "        cv2.putText(img,myOutput,(boxpts1[0],boxpts1[1]),cv2.FONT_HERSHEY_SIMPLEX,0.8,myColor,2)\n",
    "    cv2.imshow(\"Result\",img)\n",
    "    cv2.waitKey(1)\n",
    "\n",
    "        "
   ]
  },
  {
   "cell_type": "code",
   "execution_count": null,
   "metadata": {},
   "outputs": [],
   "source": []
  }
 ],
 "metadata": {
  "kernelspec": {
   "display_name": "Python 3",
   "language": "python",
   "name": "python3"
  },
  "language_info": {
   "codemirror_mode": {
    "name": "ipython",
    "version": 3
   },
   "file_extension": ".py",
   "mimetype": "text/x-python",
   "name": "python",
   "nbconvert_exporter": "python",
   "pygments_lexer": "ipython3",
   "version": "3.7.6"
  }
 },
 "nbformat": 4,
 "nbformat_minor": 4
}
