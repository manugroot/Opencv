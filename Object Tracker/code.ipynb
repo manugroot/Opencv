{
 "cells": [
  {
   "cell_type": "code",
   "execution_count": 3,
   "metadata": {},
   "outputs": [],
   "source": [
    "import cv2\n",
    "cap = cv2.VideoCapture(0)\n",
    "\n",
    "# tracker = cv2.TrackerMOSSE_create()\n",
    "tracker = cv2.TrackerCSRT_create()\n",
    "success,img = cap.read()\n",
    "bbox = cv2.selectROI('Tracking',img,False)\n",
    "tracker.init(img,bbox)\n",
    "\n",
    "def drawOutline(img,bbox):\n",
    "    x,y,w,h = int(bbox[0]),int(bbox[1]),int(bbox[2]),int(bbox[3])\n",
    "    cv2.rectangle(img,(x,y),((x+w),(y+h)),(255,123,0),3,1)\n",
    "    cv2.putText(img,\"Tracking\",(40,60),cv2.FONT_HERSHEY_SIMPLEX,0.7,(255,0,0),2)\n",
    "\n",
    "\n",
    "while True:\n",
    "    timer = cv2.getTickCount()\n",
    "    \n",
    "    success,img = cap.read()\n",
    "    success,bbox = tracker.update(img)\n",
    "    \n",
    "    if success:\n",
    "        drawOutline(img,bbox)\n",
    "    else:\n",
    "        cv2.putText(img,\"Lost\",(40,50),cv2.FONT_HERSHEY_PLAIN,0.7,(0,255,0),2)\n",
    "    \n",
    "    fps = cv2.getTickFrequency()/(cv2.getTickCount()-timer)\n",
    "    cv2.putText(img,str(int(fps)),(40,40),cv2.FONT_HERSHEY_SIMPLEX,0.7,(0,0,255),2)\n",
    "    \n",
    "    cv2.imshow('image',img)\n",
    "    \n",
    "    if cv2.waitKey(1) & 0xff ==ord('q'):\n",
    "        break"
   ]
  },
  {
   "cell_type": "code",
   "execution_count": null,
   "metadata": {},
   "outputs": [],
   "source": []
  }
 ],
 "metadata": {
  "kernelspec": {
   "display_name": "Python 3",
   "language": "python",
   "name": "python3"
  },
  "language_info": {
   "codemirror_mode": {
    "name": "ipython",
    "version": 3
   },
   "file_extension": ".py",
   "mimetype": "text/x-python",
   "name": "python",
   "nbconvert_exporter": "python",
   "pygments_lexer": "ipython3",
   "version": "3.7.6"
  }
 },
 "nbformat": 4,
 "nbformat_minor": 4
}
